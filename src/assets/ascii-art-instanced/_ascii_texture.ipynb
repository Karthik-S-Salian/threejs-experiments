{
 "cells": [
  {
   "cell_type": "code",
   "execution_count": 5,
   "metadata": {},
   "outputs": [],
   "source": [
    "from PIL import Image, ImageDraw, ImageFont"
   ]
  },
  {
   "cell_type": "code",
   "execution_count": 6,
   "metadata": {},
   "outputs": [
    {
     "data": {
      "image/png": "[encoded data removed]",
      "text/plain": [
       "<PIL.Image.Image image mode=RGBA size=252x50>"
      ]
     },
     "execution_count": 6,
     "metadata": {},
     "output_type": "execute_result"
    }
   ],
   "source": [
    "background_color = (255, 255, 255)  # White background color\n",
    "text_color = (0, 0, 0)  # Black text color\n",
    "text = \" ,-*#&@\"  # Text to display'\n",
    "font_size = 36  # Font size in points\n",
    "image_width = len(text)*font_size\n",
    "image_height = int(font_size*1.4)\n",
    "image = Image.new(\"RGBA\", (image_width, image_height), background_color)\n",
    "\n",
    "# use monospace font\n",
    "try:\n",
    "    font = ImageFont.truetype(\"..ttf\", font_size)\n",
    "except IOError:\n",
    "    font = ImageFont.load_default(font_size)\n",
    "\n",
    "# Get text size and calculate spacing\n",
    "draw = ImageDraw.Draw(image)\n",
    "\n",
    "for i,char in enumerate(text):\n",
    "    draw.text((i*font_size, 0), char, font=font, fill=text_color)\n",
    "image"
   ]
  },
  {
   "cell_type": "code",
   "execution_count": 7,
   "metadata": {},
   "outputs": [],
   "source": [
    "image.save(\"chars.png\")"
   ]
  }
 ],
 "metadata": {
  "kernelspec": {
   "display_name": "Python 3",
   "language": "python",
   "name": "python3"
  },
  "language_info": {
   "codemirror_mode": {
    "name": "ipython",
    "version": 3
   },
   "file_extension": ".py",
   "mimetype": "text/x-python",
   "name": "python",
   "nbconvert_exporter": "python",
   "pygments_lexer": "ipython3",
   "version": "3.10.12"
  }
 },
 "nbformat": 4,
 "nbformat_minor": 2
}
